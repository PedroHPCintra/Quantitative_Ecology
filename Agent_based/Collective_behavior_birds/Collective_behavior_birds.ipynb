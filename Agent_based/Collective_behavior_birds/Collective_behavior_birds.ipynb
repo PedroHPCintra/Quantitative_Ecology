{
 "cells": [
  {
   "cell_type": "code",
   "execution_count": 2,
   "id": "a67e3bd7-056e-4b71-a83e-032f9c568519",
   "metadata": {
    "collapsed": true,
    "jupyter": {
     "outputs_hidden": true
    },
    "tags": []
   },
   "outputs": [
    {
     "name": "stderr",
     "output_type": "stream",
     "text": [
      "\n",
      "Bad key text.latex.preview in file /home/pedroc/anaconda3/lib/python3.7/site-packages/matplotlib/mpl-data/stylelib/_classic_test.mplstyle, line 123 ('text.latex.preview : False')\n",
      "You probably need to get an updated matplotlibrc file from\n",
      "https://github.com/matplotlib/matplotlib/blob/v3.5.1/matplotlibrc.template\n",
      "or from the matplotlib source distribution\n",
      "\n",
      "Bad key mathtext.fallback_to_cm in file /home/pedroc/anaconda3/lib/python3.7/site-packages/matplotlib/mpl-data/stylelib/_classic_test.mplstyle, line 155 ('mathtext.fallback_to_cm : True  # When True, use symbols from the Computer Modern')\n",
      "You probably need to get an updated matplotlibrc file from\n",
      "https://github.com/matplotlib/matplotlib/blob/v3.5.1/matplotlibrc.template\n",
      "or from the matplotlib source distribution\n",
      "\n",
      "Bad key savefig.jpeg_quality in file /home/pedroc/anaconda3/lib/python3.7/site-packages/matplotlib/mpl-data/stylelib/_classic_test.mplstyle, line 418 ('savefig.jpeg_quality: 95       # when a jpeg is saved, the default quality parameter.')\n",
      "You probably need to get an updated matplotlibrc file from\n",
      "https://github.com/matplotlib/matplotlib/blob/v3.5.1/matplotlibrc.template\n",
      "or from the matplotlib source distribution\n",
      "\n",
      "Bad key keymap.all_axes in file /home/pedroc/anaconda3/lib/python3.7/site-packages/matplotlib/mpl-data/stylelib/_classic_test.mplstyle, line 466 ('keymap.all_axes : a                 # enable all axes')\n",
      "You probably need to get an updated matplotlibrc file from\n",
      "https://github.com/matplotlib/matplotlib/blob/v3.5.1/matplotlibrc.template\n",
      "or from the matplotlib source distribution\n",
      "\n",
      "Bad key animation.avconv_path in file /home/pedroc/anaconda3/lib/python3.7/site-packages/matplotlib/mpl-data/stylelib/_classic_test.mplstyle, line 477 ('animation.avconv_path: avconv     # Path to avconv binary. Without full path')\n",
      "You probably need to get an updated matplotlibrc file from\n",
      "https://github.com/matplotlib/matplotlib/blob/v3.5.1/matplotlibrc.template\n",
      "or from the matplotlib source distribution\n",
      "\n",
      "Bad key animation.avconv_args in file /home/pedroc/anaconda3/lib/python3.7/site-packages/matplotlib/mpl-data/stylelib/_classic_test.mplstyle, line 479 ('animation.avconv_args:            # Additional arguments to pass to avconv')\n",
      "You probably need to get an updated matplotlibrc file from\n",
      "https://github.com/matplotlib/matplotlib/blob/v3.5.1/matplotlibrc.template\n",
      "or from the matplotlib source distribution\n"
     ]
    }
   ],
   "source": [
    "from __future__ import division\n",
    "import warnings\n",
    "warnings.filterwarnings(\"ignore\")\n",
    "import numpy as np\n",
    "import matplotlib.pyplot as plt\n",
    "import seaborn as sns\n",
    "from scipy.integrate import odeint\n",
    "from tqdm import tqdm\n",
    "import scipy.stats as st\n",
    "import pandas as pd"
   ]
  },
  {
   "cell_type": "code",
   "execution_count": 3,
   "id": "f3fbfe2f-c100-4b30-b532-5e7b0eb95394",
   "metadata": {},
   "outputs": [],
   "source": [
    "plt.rc('text', usetex=True)\n",
    "plt.rc('font', family='serif')"
   ]
  },
  {
   "cell_type": "code",
   "execution_count": 10,
   "id": "1e9ffa0a-5dfc-4f01-8a7e-df97bddb0235",
   "metadata": {},
   "outputs": [],
   "source": [
    "N_boids = 1000\n",
    "L = 10\n",
    "delta_t = 0.1\n",
    "v = np.random.uniform(0.2, 1.2, N_boids)\n",
    "R = 1\n",
    "\n",
    "x = np.random.uniform(0, L, N_boids)\n",
    "y = np.random.uniform(0, L, N_boids)\n",
    "theta = np.random.uniform(0, 2*np.pi, N_boids)"
   ]
  },
  {
   "cell_type": "code",
   "execution_count": 5,
   "id": "3b83ab82-b478-4274-a569-ed29d4eb5d82",
   "metadata": {},
   "outputs": [],
   "source": [
    "def heaviside(x):\n",
    "    if x > 0:\n",
    "        return 1\n",
    "    else:\n",
    "        return 0"
   ]
  },
  {
   "cell_type": "code",
   "execution_count": 17,
   "id": "ef0682cf-ff4f-43e9-a74f-63666d044942",
   "metadata": {},
   "outputs": [],
   "source": [
    "def reorient_boid_alone(x0, y0, theta0, rand, v0, delta_t):\n",
    "    new_theta = theta0 + np.random.uniform(-rand, rand)\n",
    "    new_v = v0 + np.random.uniform(-v0/5, v0/5)\n",
    "    \n",
    "    x_new = x0 + v0*delta_t*np.cos(new_theta)\n",
    "    y_new = y0 + v0*delta_t*np.sin(new_theta)\n",
    "    \n",
    "    return x_new, y_new, new_theta, new_v"
   ]
  },
  {
   "cell_type": "code",
   "execution_count": 12,
   "id": "fd160c36-4a7a-4fb7-bac8-26fe4c4179d1",
   "metadata": {},
   "outputs": [],
   "source": [
    "def reorient_boid(x0, y0, x, y, theta, rand, v0, v, delta_t, R):\n",
    "    thetas_around = theta[np.where((np.abs(x - x0) <= R) & (np.abs(y - y0) <= R))[0]]\n",
    "    thetas_around_right = theta[np.where((np.abs(x+L - x0) <= R) & (np.abs(y - y0) <= R))[0]]\n",
    "    thetas_around_left = theta[np.where((np.abs(x-L - x0) <= R) & (np.abs(y - y0) <= R))[0]]\n",
    "    thetas_around_top = theta[np.where((np.abs(x - x0) <= R) & (np.abs(y+L - y0) <= R))[0]]\n",
    "    thetas_around_bottom = theta[np.where((np.abs(x - x0) <= R) & (np.abs(y-L - y0) <= R))[0]]\n",
    "    thetas_around = np.concatenate((thetas_around, thetas_around_right, thetas_around_left,\n",
    "                                    thetas_around_top, thetas_around_bottom))\n",
    "    \n",
    "    velocities_around = v[np.where((np.abs(x - x0) <= R) & (np.abs(y - y0) <= R))[0]]\n",
    "    velocities_around_right = v[np.where((np.abs(x+L - x0) <= R) & (np.abs(y - y0) <= R))[0]]\n",
    "    velocities_around_left = v[np.where((np.abs(x-L - x0) <= R) & (np.abs(y - y0) <= R))[0]]\n",
    "    velocities_around_top = v[np.where((np.abs(x - x0) <= R) & (np.abs(y+L - y0) <= R))[0]]\n",
    "    velocities_around_bottom = v[np.where((np.abs(x - x0) <= R) & (np.abs(y-L - y0) <= R))[0]]\n",
    "    velocities_around = np.concatenate((velocities_around, velocities_around_right, velocities_around_left,\n",
    "                                    velocities_around_top, velocities_around_bottom))\n",
    "    \n",
    "    mean_sin = np.mean(np.sin(thetas_around))\n",
    "    mean_cos = np.mean(np.cos(thetas_around))\n",
    "    v_mean = np.mean(velocities_around)\n",
    "    \n",
    "    new_theta = np.arctan(mean_sin/mean_cos) + np.pi*heaviside(-mean_cos) + np.random.uniform(-rand, rand)\n",
    "    new_v = (v0 - v_mean)*np.exp(-delta_t) + v_mean\n",
    "    \n",
    "    x_new = x0 + new_v*delta_t*np.cos(new_theta)\n",
    "    y_new = y0 + new_v*delta_t*np.sin(new_theta)\n",
    "    \n",
    "    return x_new, y_new, new_theta, new_v"
   ]
  },
  {
   "cell_type": "code",
   "execution_count": 13,
   "id": "39ca3688-0c0d-4bfd-aa41-bb927cab01a4",
   "metadata": {},
   "outputs": [
    {
     "data": {
      "text/plain": [
       "(5.185721377623708, 3.8627737649694693, 4.074170307020098, 0.8710576167561741)"
      ]
     },
     "execution_count": 13,
     "metadata": {},
     "output_type": "execute_result"
    }
   ],
   "source": [
    "reorient_boid(x[0], y[0], x, y, theta, 0.1, v[0], v, delta_t, R)"
   ]
  },
  {
   "cell_type": "code",
   "execution_count": 20,
   "id": "af63f57f-7270-497a-bd1f-e50cc1a717a5",
   "metadata": {},
   "outputs": [
    {
     "name": "stderr",
     "output_type": "stream",
     "text": [
      "100%|██████████| 400/400 [00:52<00:00,  7.55it/s]\n"
     ]
    }
   ],
   "source": [
    "N_boids = 200\n",
    "L = 10\n",
    "delta_t = 0.1\n",
    "max_it = 400\n",
    "R = 1\n",
    "t_c = [200, 201, 202]\n",
    "\n",
    "x = np.random.uniform(0, L, N_boids)\n",
    "y = np.random.uniform(0, L, N_boids)\n",
    "theta = np.random.uniform(0, 2*np.pi, N_boids)\n",
    "v = np.random.uniform(0.3, 1.2, N_boids)\n",
    "\n",
    "for i in tqdm(range(max_it)):\n",
    "    if i % 2 == 0:\n",
    "        fig, ax = plt.subplots(figsize=(6,6))\n",
    "        plt.scatter(x, y, s = 10, color = 'crimson', edgecolor = 'black')\n",
    "        # plt.scatter(x[50], y[50], s = 20, color = 'teal', edgecolor = 'black')\n",
    "        # circle = plt.Circle((x[50], y[50]), R, edgecolor = 'black', facecolor = 'none')\n",
    "        # ax.add_patch(circle)\n",
    "        plt.quiver(x, y, v*np.cos(theta), v*np.sin(theta), color = 'grey')\n",
    "        plt.xlim(0, L)\n",
    "        plt.ylim(0, L)\n",
    "        plt.xticks([])\n",
    "        plt.yticks([])\n",
    "        if i < 100:\n",
    "            plt.title('Collective behavior in flocks of birds = OFF', fontsize = 18, pad = 16)\n",
    "        else:\n",
    "            plt.title('Collective behavior in flocks of birds = ON', fontsize = 18, pad = 16)\n",
    "        plt.savefig(f'Gifs/birds_{i}.png', dpi = 300, bbox_inches = 'tight')\n",
    "        plt.close()\n",
    "    x_new = x.copy()\n",
    "    y_new = y.copy()\n",
    "    theta_new = theta.copy()\n",
    "    v_new = v.copy()\n",
    "    \n",
    "    if i < 100:\n",
    "        for j in range(N_boids):\n",
    "            x_new[j], y_new[j], theta_new[j], v_new[j] = reorient_boid_alone(x[j], y[j], theta[j], np.pi/10, v[j], delta_t)\n",
    "            # if i in t_c and j == 50:\n",
    "            #     theta_new[j] = theta_new[j] + np.pi/2\n",
    "\n",
    "            if x_new[j] > L:\n",
    "                x_new[j] = x_new[j] - L\n",
    "            elif x_new[j] < 0:\n",
    "                x_new[j] = x_new[j] + L\n",
    "\n",
    "            if y_new[j] > L:\n",
    "                y_new[j] = y_new[j] - L\n",
    "            elif y_new[j] < 0:\n",
    "                y_new[j] = y_new[j] + L\n",
    "\n",
    "        x = x_new\n",
    "        y = y_new\n",
    "        theta = theta_new\n",
    "        v = v_new\n",
    "    else:\n",
    "        for j in range(N_boids):\n",
    "            x_new[j], y_new[j], theta_new[j], v_new[j] = reorient_boid(x[j], y[j], x, y, theta, np.pi/10, v[j], v, delta_t, R)\n",
    "            # if i in t_c and j == 50:\n",
    "            #     theta_new[j] = theta_new[j] + np.pi/2\n",
    "\n",
    "            if x_new[j] > L:\n",
    "                x_new[j] = x_new[j] - L\n",
    "            elif x_new[j] < 0:\n",
    "                x_new[j] = x_new[j] + L\n",
    "\n",
    "            if y_new[j] > L:\n",
    "                y_new[j] = y_new[j] - L\n",
    "            elif y_new[j] < 0:\n",
    "                y_new[j] = y_new[j] + L\n",
    "\n",
    "        x = x_new\n",
    "        y = y_new\n",
    "        theta = theta_new\n",
    "        v = v_new"
   ]
  },
  {
   "cell_type": "code",
   "execution_count": null,
   "id": "eb3518eb-2490-47d2-a77c-9a374c0ad865",
   "metadata": {},
   "outputs": [],
   "source": []
  }
 ],
 "metadata": {
  "kernelspec": {
   "display_name": "Python 3",
   "language": "python",
   "name": "python3"
  },
  "language_info": {
   "codemirror_mode": {
    "name": "ipython",
    "version": 3
   },
   "file_extension": ".py",
   "mimetype": "text/x-python",
   "name": "python",
   "nbconvert_exporter": "python",
   "pygments_lexer": "ipython3",
   "version": "3.7.11"
  }
 },
 "nbformat": 4,
 "nbformat_minor": 5
}
