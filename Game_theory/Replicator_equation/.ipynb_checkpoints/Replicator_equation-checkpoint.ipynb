{
 "cells": [
  {
   "cell_type": "code",
   "execution_count": null,
   "metadata": {},
   "outputs": [],
   "source": [
    "import warnings\n",
    "warnings.filterwarnings(\"ignore\")"
   ]
  },
  {
   "cell_type": "markdown",
   "metadata": {},
   "source": [
    "**Replicator equation**\n",
    "\n",
    "\\begin{align}\n",
    "\\frac{\\mathrm{d} x_i}{\\mathrm{d} t} = x_i \\left[ \\left(A \\vec{x} \\right)_i - \\vec{x}^T A \\vec{x} \\right] = x_i \\left[ f_i(x) - \\phi(x) \\right]\n",
    "\\end{align}"
   ]
  },
  {
   "cell_type": "code",
   "execution_count": null,
   "metadata": {},
   "outputs": [],
   "source": [
    "import numpy as np\n",
    "import matplotlib.pyplot as plt\n",
    "from numba import njit\n",
    "import seaborn as sns\n",
    "from tqdm import tqdm"
   ]
  },
  {
   "cell_type": "code",
   "execution_count": null,
   "metadata": {},
   "outputs": [],
   "source": [
    "plt.rc('text', usetex=True)\n",
    "plt.rc('font', family='serif')"
   ]
  },
  {
   "cell_type": "code",
   "execution_count": null,
   "metadata": {},
   "outputs": [],
   "source": [
    "@njit\n",
    "def replicator(pop0, tmax, dt, payoff):\n",
    "    t = np.arange(0, tmax + dt, dt)\n",
    "    \n",
    "    pop = np.zeros((2, len(t)))\n",
    "    \n",
    "    x01 = pop0[0]\n",
    "    x02 = pop0[1]\n",
    "    \n",
    "    pop[0,0] = x01\n",
    "    pop[1,0] = x02\n",
    "    for i in range(1,len(t)):\n",
    "    \n",
    "        fitness1, fitness2 = np.dot(payoff, pop[:,i-1])\n",
    "\n",
    "        average_pop_fitness = np.dot(np.dot(pop[:,i-1].T, payoff), pop[:,i-1])\n",
    "\n",
    "        pop[0,i] = pop[0,i-1] + dt*pop[0,i-1]*(fitness1 - average_pop_fitness)\n",
    "        pop[1,i] = pop[1,i-1] + dt*pop[1,i-1]*(fitness2 - average_pop_fitness)\n",
    "    \n",
    "    return pop"
   ]
  },
  {
   "cell_type": "code",
   "execution_count": null,
   "metadata": {},
   "outputs": [],
   "source": [
    "payoff = np.array([[7/4, 2/4],\n",
    "                   [6/4, 2/4]])\n",
    "\n",
    "N0 = 50\n",
    "team_fraction = 1/N0"
   ]
  },
  {
   "cell_type": "code",
   "execution_count": null,
   "metadata": {},
   "outputs": [],
   "source": [
    "x0 = np.array([team_fraction, 1 - team_fraction])\n",
    "\n",
    "tmax = 350\n",
    "dt = 0.01\n",
    "t = np.arange(0, tmax + dt, dt)\n",
    "\n",
    "solution = replicator(x0, tmax, dt, payoff)"
   ]
  },
  {
   "cell_type": "code",
   "execution_count": null,
   "metadata": {},
   "outputs": [],
   "source": [
    "fig, ax = plt.subplots()\n",
    "plt.plot(t, solution[0], color = 'white')\n",
    "plt.fill_between(t, 0, solution[0], color = sns.color_palette('inferno')[3])\n",
    "plt.fill_between(t, solution[0], 1, color = sns.color_palette('inferno')[1])\n",
    "plt.ylim(0, 1)\n",
    "plt.xlim(t[0], t[-1])\n",
    "plt.xlabel('Dias', fontsize = 14)\n",
    "plt.ylabel('Fração da população', fontsize = 14)\n",
    "\n",
    "plt.text(100, 0.8, 'Egoístas', fontsize = 12, color = 'white', ha = 'center')\n",
    "plt.text(280, 0.1, 'Cooperadores', fontsize = 12, ha = 'center')\n",
    "\n",
    "ax.spines[['top','right']].set_visible(False)\n",
    "plt.savefig('coop_fraction.png', dpi = 300, bbox_inches = 'tight')\n",
    "plt.show()"
   ]
  },
  {
   "cell_type": "code",
   "execution_count": null,
   "metadata": {},
   "outputs": [],
   "source": [
    "d = np.linspace(0, 1, 100)\n",
    "c = np.linspace(0, 1, 100)\n",
    "\n",
    "results = np.zeros((len(d), len(c)))\n",
    "\n",
    "for i in tqdm(range(len(d))):\n",
    "    for j in range(len(c)):\n",
    "        payoff = np.array([[7/4, 1 - c[j]],\n",
    "                           [1+c[j], d[i]]])\n",
    "        \n",
    "        N0 = 10\n",
    "        team_fraction = 1/N0\n",
    "        \n",
    "        x0 = np.array([team_fraction, 1 - team_fraction])\n",
    "\n",
    "        tmax = 10000\n",
    "        dt = 0.1\n",
    "        t = np.arange(0, tmax + dt, dt)\n",
    "\n",
    "        solution = replicator(x0, tmax, dt, payoff)\n",
    "        \n",
    "        results[i,j] = solution[0,-1]"
   ]
  },
  {
   "cell_type": "code",
   "execution_count": null,
   "metadata": {},
   "outputs": [],
   "source": [
    "X, Y = np.meshgrid(c, d)"
   ]
  },
  {
   "cell_type": "code",
   "execution_count": null,
   "metadata": {},
   "outputs": [],
   "source": [
    "results_types = np.zeros((len(d), len(c)))\n",
    "\n",
    "for i in range(len(d)):\n",
    "    for j in range(len(c)):\n",
    "        if results[i,j] < team_fraction:\n",
    "            results_types[i,j] = 0\n",
    "        elif results[i,j] < 0.99:\n",
    "            results_types[i,j] = 1\n",
    "        else:\n",
    "            results_types[i,j] = 2"
   ]
  },
  {
   "cell_type": "code",
   "execution_count": null,
   "metadata": {},
   "outputs": [],
   "source": [
    "fig, ax = plt.subplots(figsize = (6,6))\n",
    "\n",
    "cont = plt.pcolor(X, Y, results_types, vmin = 0, vmax = 2, cmap = 'inferno')\n",
    "# cbar = plt.colorbar(cont, ticks = [0.4,1.2,2])\n",
    "# cbar.ax.set_yticks([0, 1, 2])\n",
    "# cbar.ax.set_yticklabels(['Egoístas \\napenas','Coexistência','Cooperadores \\napenas'],\n",
    "#                        fontsize = 14)\n",
    "\n",
    "plt.xlabel('Ganho de extra egoístas ao competirem \\n com cooperadores', fontsize = 14, labelpad = 10)\n",
    "plt.ylabel('Ganho de egoístas ao competirem \\n um com o outro', fontsize = 14, labelpad = 10)\n",
    "plt.xticks(fontsize = 11)\n",
    "plt.yticks(fontsize = 11)\n",
    "\n",
    "plt.text(0.15, 0.3, 'Apenas cooperadores', fontsize = 12)\n",
    "plt.text(0.75, 0.03, 'Coexistência', fontsize = 12, rotation = -45, color = 'white')\n",
    "plt.text(0.7, 0.8, 'Apenas egoístas', fontsize = 12, color = 'white')\n",
    "\n",
    "plt.savefig('heatmap_cooperation.png', dpi = 300, bbox_inches = 'tight')\n",
    "plt.show()"
   ]
  }
 ],
 "metadata": {
  "language_info": {
   "name": "python"
  }
 },
 "nbformat": 4,
 "nbformat_minor": 2
}
